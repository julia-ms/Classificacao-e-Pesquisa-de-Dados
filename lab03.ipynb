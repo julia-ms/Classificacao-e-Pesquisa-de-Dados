{
  "nbformat": 4,
  "nbformat_minor": 0,
  "metadata": {
    "kernelspec": {
      "display_name": "Python 3",
      "language": "python",
      "name": "python3"
    },
    "language_info": {
      "codemirror_mode": {
        "name": "ipython",
        "version": 3
      },
      "file_extension": ".py",
      "mimetype": "text/x-python",
      "name": "python",
      "nbconvert_exporter": "python",
      "pygments_lexer": "ipython3",
      "version": "3.7.3"
    },
    "colab": {
      "provenance": [],
      "include_colab_link": true
    }
  },
  "cells": [
    {
      "cell_type": "markdown",
      "metadata": {
        "id": "view-in-github",
        "colab_type": "text"
      },
      "source": [
        "<a href=\"https://colab.research.google.com/github/julia-ms/Classificacao-e-Pesquisa-de-Dados/blob/main/lab03.ipynb\" target=\"_parent\"><img src=\"https://colab.research.google.com/assets/colab-badge.svg\" alt=\"Open In Colab\"/></a>"
      ]
    },
    {
      "cell_type": "markdown",
      "metadata": {
        "id": "LTM-tQSzRO2b"
      },
      "source": [
        "# Disciplina de Classificação e Pesquisa de Dados\n",
        " \n",
        "# Laboratório #3\n",
        " \n",
        "### Implementação (em C++) dos principais algoritmos de classificação por seleção."
      ]
    },
    {
      "cell_type": "markdown",
      "metadata": {
        "id": "AkA1bR3jUN8v"
      },
      "source": [
        "A seguir você encontra uma **versão local do algoritmo heapsort**. Ele utiliza o buildheap que constrói um max-heap a partir do array passado (lembre-se que um max-heap é aquele que tem o maior elemento na raíz, i.e., os pais são maiores ou iguais aos filhos). Você **também encontra funções auxiliares para identificar o filho esquerdo, o filho direito e o pai de um elemento** no array (heap).\n",
        "\n",
        "O exercício consiste em:\n",
        "\n",
        "1. **implementar a função heapify**, que é usada pelos algoritmos buildheap e heapsort. Lembre-se que ela deve garantir que toda a subárvore é um heap (do elemento passado até a folha), e é normalmente implementada de maneira recursiva. \n",
        "2. **implementar a função 'heap_max', 'extract_max' e 'insert_heap'**. A primeira devolve o primeiro elemento do heap (sem retirá-lo), operando em *O*(1). A segunda devolve e extrai o primeiro elemento do heap, colocando um elemento substituto no lugar em *O*(log *n*), garantindo que o array continua sendo um heap. A última insere um elemento no heap em *O*(log *n*), mantendo as propriedades de heap do array.\n",
        "\n",
        "Para que possamos avaliar o desempenho dos algoritmos implementados e identificarmos as melhores maneiras de resolver os problemas, vamos desenvolver alternativas. Para tanto:\n",
        "\n",
        "4. **Elabore uma versão de build-heap** que constroi o heap de cima para baixo ao invés de baixo para cima. Para tanto, ela deve fazer heapify do primeiro ao último elemento pai (e não do último pai para a raíz). Analise qual versão apresenta melhor desempenho (a original ou a alternativa) em termos de comparações e trocas. Se desejar, elabore (e compare) também alguma versão diferente, com base em alguma ideia sua. \n",
        "\n",
        "5. **Analise o desempenho** (tempo, comparações e trocas) **do heap-sort tradicional**, em arrays crescentes e decrescentes, de 100, 1000 e 10000 elementos**. \n",
        "\n",
        "6. **Use a função build-heap tradicional e a alternativa (exercício 4)** para transformar um pequeno array aleatório (criado por você, com não mais do que 16 elementos) em heaps. \n",
        "\n",
        "**Desafios (exercícios extras)**: \n",
        "1. elabore a função **iteractive-build-heap**, que constrói um heap inserindo elemento por elemento em um array auxiliar (ou seja, não é local). Analise qual versão apresenta melhor desempenho (a iterativa não local ou a tradicional, local), avaliando o número de trocas e de comparações.\n",
        "2. **implementar um 'min-heap'**, que é um heap invertido, ou seja, que tem o menor elemento na raiz (e os pais são menores ou iguais aos filhos)."
      ]
    },
    {
      "cell_type": "code",
      "metadata": {
        "id": "nOWvfug_RO2l",
        "colab": {
          "base_uri": "https://localhost:8080/"
        },
        "outputId": "64b0f121-6c67-42f9-b9b1-9a4dc85c67c9"
      },
      "source": [
        "%%writefile sorting3.cpp\n",
        "#include<iostream>\n",
        "#include<tuple>\n",
        "#include<string>\n",
        "#include<vector>\n",
        "#include<unordered_map>\n",
        "#include<bits/stdc++.h>\n",
        "#include<map>\n",
        "\n",
        "using namespace std;\n",
        "\n",
        "// Definições e variáveis globais necessárias\n",
        "typedef int element_t;                                                          // tipo do elemento\n",
        "typedef vector<element_t> array_t;                                              // tipo do array\n",
        "typedef tuple<int, int, double> loginfo_t;                                      // armazena informações de desempenho <trocas, comparações, tempo em ms>\n",
        "\n",
        "void selectionsort(array_t&, loginfo_t&);\n",
        "void heapsort(array_t&, loginfo_t&);\n",
        "void buildheap(array_t&, loginfo_t&);\n",
        "int filho_e(const array_t&, element_t);\n",
        "int filho_d(const array_t&, element_t);\n",
        "int pai(const array_t&, element_t);\n",
        "void heapify(array_t&, element_t, int, loginfo_t&);\n",
        "int heap_max(const array_t&, loginfo_t&);\n",
        "int extract_max(array_t&, loginfo_t&);\n",
        "void heap_insert(array_t&, element_t, loginfo_t&);\n",
        "void swap(element_t* n1, element_t* n2);\n",
        "\n",
        "int main(void){\n",
        "  loginfo_t loginfo;\n",
        "  int qtd;\n",
        "  array_t array1 = {1,2,3,4,5,6,7,8};\n",
        "\n",
        "  buildheap(array1, loginfo);\n",
        "  \n",
        "  for(auto e:array1)\n",
        "     cout << e << \" \";  \n",
        "  cout << endl;\n",
        "\n",
        "  array_t array2 = {9,8,7,6,5,4,3,1};\n",
        "  heapsort(array2, loginfo);\n",
        "\n",
        "  for(auto e:array2)\n",
        "     cout << e << \" \";  \n",
        "  cout << endl;\n",
        "\n",
        "  return 0;\n",
        "}\n",
        "\n",
        "// ################################################\n",
        "// Algoritmos de ordenação por Seleção\n",
        "// ################################################\n",
        " \n",
        "// Seleção direta \n",
        "void selectionsort(array_t& array, loginfo_t& loginfo){\n",
        "   int trocas = 0;\n",
        "   int comparacoes = 0;\n",
        "   element_t menorchave;\n",
        "   int qtd_elementos = array.size()-1;  \n",
        "\n",
        "   for(auto i=0; i<qtd_elementos;i++){\n",
        "      menorchave = i;\n",
        "      for(auto j=i; j<qtd_elementos+1; j++){                   \n",
        "         comparacoes = comparacoes + 1;\n",
        "         if(array[j] < array[menorchave]){ \n",
        "            menorchave = j;\n",
        "         }\n",
        "      }   \n",
        "      if(menorchave != i){\n",
        "         swap(array[i], array[menorchave]);\n",
        "         trocas = trocas + 1;\n",
        "      }\n",
        "   }\n",
        "   get<0>(loginfo)=trocas;\n",
        "   get<1>(loginfo)=comparacoes;\n",
        "} \n",
        "\n",
        "// Heapsort e funções auxiliares\n",
        "void heapsort(array_t& array, loginfo_t& loginfo){\n",
        "   int trocas = 0;\n",
        "   int comparacoes = 0;\n",
        "   int heap_size = array.size();\n",
        "   int qtd_elementos = heap_size-1;   \n",
        "    \n",
        "   buildheap(array, loginfo);\n",
        "    \n",
        "   for(auto i = qtd_elementos; i>0; i--){\n",
        "      trocas++;\n",
        "      swap(array[i], array[0]);\n",
        "      heap_size--;\n",
        "      heapify(array, 0, heap_size, loginfo); \n",
        "   }\n",
        "   get<0>(loginfo)=trocas;\n",
        "   get<1>(loginfo)=comparacoes;\n",
        "}\n",
        "\n",
        "// usada no heapsort\n",
        "void buildheap(array_t& array, loginfo_t& loginfo){\n",
        "   int ultimo_pai = (array.size()/2)-1;\n",
        "   for(auto i=ultimo_pai; i>0; i--)\n",
        "      heapify(array, i, array.size(), loginfo);\n",
        "}\n",
        "  \n",
        "int filho_e(const array_t& array, element_t elemento){\n",
        "   return elemento*2+1;\n",
        "}\n",
        " \n",
        "int filho_d(const array_t& array, element_t elemento){\n",
        "   return elemento*2+2;\n",
        "}\n",
        " \n",
        "int pai(const array_t& array, element_t elemento){\n",
        "   return (elemento/2);\n",
        "}\n",
        " \n",
        "// ################################################\n",
        "// Implementação dos seus algoritmos:\n",
        "   \n",
        "// heapify: verifica se o elemento na posição passada é um heap e se não for transforma-o em um\n",
        "// parâmetros: array, índice do elemento a heapificar, tamanho do heap, dicionário de logs\n",
        "void heapify(array_t& array, element_t elemento, int heap_size, loginfo_t& loginfo){\n",
        "    // a implementar\n",
        "}\n",
        " \n",
        "int heap_max(array_t& heap, loginfo_t& loginfo){\n",
        "    // A implementar!    \n",
        "    return -1;\n",
        "}\n",
        "\n",
        "int extract_max(array_t& heap, loginfo_t& loginfo){    \n",
        "   // A implementar!\n",
        "   return -1;\n",
        "}\n",
        " \n",
        "void heap_insert(array_t& heap, element_t elemento, loginfo_t& loginfo){\n",
        "   // A implementar!\n",
        "}"
      ],
      "execution_count": null,
      "outputs": [
        {
          "output_type": "stream",
          "text": [
            "Writing sorting3.cpp\n"
          ],
          "name": "stdout"
        }
      ]
    },
    {
      "cell_type": "code",
      "metadata": {
        "id": "XtqdXgNiRO2n"
      },
      "source": [
        "%%script bash\n",
        "g++ sorting3.cpp -o sorting3"
      ],
      "execution_count": null,
      "outputs": []
    },
    {
      "cell_type": "code",
      "metadata": {
        "id": "nzww_QIyRO2s",
        "colab": {
          "base_uri": "https://localhost:8080/"
        },
        "outputId": "1b368ac2-bd76-4ed5-8b66-ab301f5861aa"
      },
      "source": [
        "%%script bash\n",
        "./sorting3"
      ],
      "execution_count": null,
      "outputs": [
        {
          "output_type": "stream",
          "text": [
            "1 2 3 4 5 6 7 8 \n",
            "8 7 6 5 4 3 1 9 \n"
          ],
          "name": "stdout"
        }
      ]
    },
    {
      "cell_type": "code",
      "metadata": {
        "id": "qBtULE7qG0ye"
      },
      "source": [],
      "execution_count": null,
      "outputs": []
    }
  ]
}